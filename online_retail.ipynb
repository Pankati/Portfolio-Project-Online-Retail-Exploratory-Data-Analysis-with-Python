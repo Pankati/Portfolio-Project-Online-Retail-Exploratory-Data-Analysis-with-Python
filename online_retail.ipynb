{
 "cells": [
  {
   "cell_type": "markdown",
   "metadata": {},
   "source": [
    "# Portfolio Project: Online Retail Exploratory Data Analysis with Python"
   ]
  },
  {
   "cell_type": "markdown",
   "metadata": {},
   "source": [
    "## Overview\n",
    "\n",
    "In this project, you will step into the shoes of an entry-level data analyst at an online retail company, helping interpret real-world data to help make a key business decision."
   ]
  },
  {
   "cell_type": "markdown",
   "metadata": {},
   "source": [
    "## Case Study\n",
    "In this project, you will be working with transactional data from an online retail store. The dataset contains information about customer purchases, including product details, quantities, prices, and timestamps. Your task is to explore and analyze this dataset to gain insights into the store's sales trends, customer behavior, and popular products. \n",
    "\n",
    "By conducting exploratory data analysis, you will identify patterns, outliers, and correlations in the data, allowing you to make data-driven decisions and recommendations to optimize the store's operations and improve customer satisfaction. Through visualizations and statistical analysis, you will uncover key trends, such as the busiest sales months, best-selling products, and the store's most valuable customers. Ultimately, this project aims to provide actionable insights that can drive strategic business decisions and enhance the store's overall performance in the competitive online retail market.\n",
    "\n",
    "## Prerequisites\n",
    "\n",
    "Before starting this project, you should have some basic knowledge of Python programming and Pandas. In addition, you may want to use the following packages in your Python environment:\n",
    "\n",
    "- pandas\n",
    "- numpy\n",
    "- seaborn\n",
    "- matplotlib\n",
    "\n",
    "These packages should already be installed in Coursera's Jupyter Notebook environment, however if you'd like to install additional packages that are not included in this environment or are working off platform you can install additional packages using `!pip install packagename` within a notebook cell such as:\n",
    "\n",
    "- `!pip install pandas`\n",
    "- `!pip install matplotlib`"
   ]
  },
  {
   "cell_type": "markdown",
   "metadata": {},
   "source": [
    "## Project Objectives\n",
    "1. Describe data to answer key questions to uncover insights\n",
    "2. Gain valuable insights that will help improve online retail performance\n",
    "3. Provide analytic insights and data-driven recommendations"
   ]
  },
  {
   "cell_type": "markdown",
   "metadata": {},
   "source": [
    "## Dataset\n",
    "\n",
    "The dataset you will be working with is the \"Online Retail\" dataset. It contains transactional data of an online retail store from 2010 to 2011. The dataset is available as a .xlsx file named `Online Retail.xlsx`. This data file is already included in the Coursera Jupyter Notebook environment, however if you are working off-platform it can also be downloaded [here](https://archive.ics.uci.edu/ml/machine-learning-databases/00352/Online%20Retail.xlsx).\n",
    "\n",
    "The dataset contains the following columns:\n",
    "\n",
    "- InvoiceNo: Invoice number of the transaction\n",
    "- StockCode: Unique code of the product\n",
    "- Description: Description of the product\n",
    "- Quantity: Quantity of the product in the transaction\n",
    "- InvoiceDate: Date and time of the transaction\n",
    "- UnitPrice: Unit price of the product\n",
    "- CustomerID: Unique identifier of the customer\n",
    "- Country: Country where the transaction occurred"
   ]
  },
  {
   "cell_type": "markdown",
   "metadata": {},
   "source": [
    "## Tasks\n",
    "\n",
    "You may explore this dataset in any way you would like - however if you'd like some help getting started, here are a few ideas:\n",
    "\n",
    "1. Load the dataset into a Pandas DataFrame and display the first few rows to get an overview of the data.\n",
    "2. Perform data cleaning by handling missing values, if any, and removing any redundant or unnecessary columns.\n",
    "3. Explore the basic statistics of the dataset, including measures of central tendency and dispersion.\n",
    "4. Perform data visualization to gain insights into the dataset. Generate appropriate plots, such as histograms, scatter plots, or bar plots, to visualize different aspects of the data.\n",
    "5. Analyze the sales trends over time. Identify the busiest months and days of the week in terms of sales.\n",
    "6. Explore the top-selling products and countries based on the quantity sold.\n",
    "7. Identify any outliers or anomalies in the dataset and discuss their potential impact on the analysis.\n",
    "8. Draw conclusions and summarize your findings from the exploratory data analysis."
   ]
  },
{
   "cell_type": "markdown",
   "metadata": {},
   "source": [
    "### Import packages"
   ]
  },
  {
   "cell_type": "code",
   "execution_count": 1,
   "metadata": {},
   "outputs": [],
   "source": [
    "# For data manipulation\n",
    "import numpy as np\n",
    "import pandas as pd\n",
    "\n",
    "# For data visualization\n",
    "import matplotlib.pyplot as plt\n",
    "import seaborn as sns\n",
    "\n",
    "# For displaying all of the columns in dataframes\n",
    "pd.set_option('display.max_columns', None)\n",
    "\n",
    "# Packages for date conversions\n",
    "from datetime import datetime\n",
    "from datetime import date\n",
    "from datetime import timedelta"
   ]
  },
  {
   "cell_type": "markdown",
   "metadata": {},
   "source": [
    "## Task 1: Load the Data"
   ]
  },
  {
   "cell_type": "code",
   "execution_count": 2,
   "metadata": {},
   "outputs": [
    {
     "data": {
      "text/html": [
       "<div>\n",
       "<style scoped>\n",
       "    .dataframe tbody tr th:only-of-type {\n",
       "        vertical-align: middle;\n",
       "    }\n",
       "\n",
       "    .dataframe tbody tr th {\n",
       "        vertical-align: top;\n",
       "    }\n",
       "\n",
       "    .dataframe thead th {\n",
       "        text-align: right;\n",
       "    }\n",
       "</style>\n",
       "<table border=\"1\" class=\"dataframe\">\n",
       "  <thead>\n",
       "    <tr style=\"text-align: right;\">\n",
       "      <th></th>\n",
       "      <th>InvoiceNo</th>\n",
       "      <th>StockCode</th>\n",
       "      <th>Description</th>\n",
       "      <th>Quantity</th>\n",
       "      <th>InvoiceDate</th>\n",
       "      <th>UnitPrice</th>\n",
       "      <th>CustomerID</th>\n",
       "      <th>Country</th>\n",
       "    </tr>\n",
       "  </thead>\n",
       "  <tbody>\n",
       "    <tr>\n",
       "      <th>0</th>\n",
       "      <td>536365</td>\n",
       "      <td>85123A</td>\n",
       "      <td>WHITE HANGING HEART T-LIGHT HOLDER</td>\n",
       "      <td>6</td>\n",
       "      <td>2010-12-01 08:26:00</td>\n",
       "      <td>2.55</td>\n",
       "      <td>17850.0</td>\n",
       "      <td>United Kingdom</td>\n",
       "    </tr>\n",
       "    <tr>\n",
       "      <th>1</th>\n",
       "      <td>536365</td>\n",
       "      <td>71053</td>\n",
       "      <td>WHITE METAL LANTERN</td>\n",
       "      <td>6</td>\n",
       "      <td>2010-12-01 08:26:00</td>\n",
       "      <td>3.39</td>\n",
       "      <td>17850.0</td>\n",
       "      <td>United Kingdom</td>\n",
       "    </tr>\n",
       "    <tr>\n",
       "      <th>2</th>\n",
       "      <td>536365</td>\n",
       "      <td>84406B</td>\n",
       "      <td>CREAM CUPID HEARTS COAT HANGER</td>\n",
       "      <td>8</td>\n",
       "      <td>2010-12-01 08:26:00</td>\n",
       "      <td>2.75</td>\n",
       "      <td>17850.0</td>\n",
       "      <td>United Kingdom</td>\n",
       "    </tr>\n",
       "    <tr>\n",
       "      <th>3</th>\n",
       "      <td>536365</td>\n",
       "      <td>84029G</td>\n",
       "      <td>KNITTED UNION FLAG HOT WATER BOTTLE</td>\n",
       "      <td>6</td>\n",
       "      <td>2010-12-01 08:26:00</td>\n",
       "      <td>3.39</td>\n",
       "      <td>17850.0</td>\n",
       "      <td>United Kingdom</td>\n",
       "    </tr>\n",
       "    <tr>\n",
       "      <th>4</th>\n",
       "      <td>536365</td>\n",
       "      <td>84029E</td>\n",
       "      <td>RED WOOLLY HOTTIE WHITE HEART.</td>\n",
       "      <td>6</td>\n",
       "      <td>2010-12-01 08:26:00</td>\n",
       "      <td>3.39</td>\n",
       "      <td>17850.0</td>\n",
       "      <td>United Kingdom</td>\n",
       "    </tr>\n",
       "  </tbody>\n",
       "</table>\n",
       "</div>"
      ],
      "text/plain": [
       "  InvoiceNo StockCode                          Description  Quantity  \\\n",
       "0    536365    85123A   WHITE HANGING HEART T-LIGHT HOLDER         6   \n",
       "1    536365     71053                  WHITE METAL LANTERN         6   \n",
       "2    536365    84406B       CREAM CUPID HEARTS COAT HANGER         8   \n",
       "3    536365    84029G  KNITTED UNION FLAG HOT WATER BOTTLE         6   \n",
       "4    536365    84029E       RED WOOLLY HOTTIE WHITE HEART.         6   \n",
       "\n",
       "          InvoiceDate  UnitPrice  CustomerID         Country  \n",
       "0 2010-12-01 08:26:00       2.55     17850.0  United Kingdom  \n",
       "1 2010-12-01 08:26:00       3.39     17850.0  United Kingdom  \n",
       "2 2010-12-01 08:26:00       2.75     17850.0  United Kingdom  \n",
       "3 2010-12-01 08:26:00       3.39     17850.0  United Kingdom  \n",
       "4 2010-12-01 08:26:00       3.39     17850.0  United Kingdom  "
      ]
     },
     "execution_count": 2,
     "metadata": {},
     "output_type": "execute_result"
    }
   ],
   "source": [
    "# Load dataset into a dataframe\n",
    "data = pd.read_excel('Online Retail.xlsx')\n",
    "\n",
    "# Display first few rows of the dataframe\n",
    "data.head()"
   ]
  },
  {
   "cell_type": "markdown",
   "metadata": {},
   "source": [
    "## Task 2 : Explore the basic statistics of the dataset, including measures of central tendency and dispersion."
   ]
  },
  {
   "cell_type": "markdown",
   "metadata": {},
   "source": [
    "### Gather basic information about the data"
   ]
  },
  {
   "cell_type": "code",
   "execution_count": 3,
   "metadata": {},
   "outputs": [
    {
     "name": "stdout",
     "output_type": "stream",
     "text": [
      "<class 'pandas.core.frame.DataFrame'>\n",
      "RangeIndex: 541909 entries, 0 to 541908\n",
      "Data columns (total 8 columns):\n",
      " #   Column       Non-Null Count   Dtype         \n",
      "---  ------       --------------   -----         \n",
      " 0   InvoiceNo    541909 non-null  object        \n",
      " 1   StockCode    541909 non-null  object        \n",
      " 2   Description  540455 non-null  object        \n",
      " 3   Quantity     541909 non-null  int64         \n",
      " 4   InvoiceDate  541909 non-null  datetime64[ns]\n",
      " 5   UnitPrice    541909 non-null  float64       \n",
      " 6   CustomerID   406829 non-null  float64       \n",
      " 7   Country      541909 non-null  object        \n",
      "dtypes: datetime64[ns](1), float64(2), int64(1), object(4)\n",
      "memory usage: 33.1+ MB\n"
     ]
    }
   ],
   "source": [
    "data.info()"
   ]
  },
  {
   "cell_type": "markdown",
   "metadata": {},
   "source": [
    "### Gather descriptive statistics about the data"
   ]
  },
  {
   "cell_type": "code",
   "execution_count": 4,
   "metadata": {},
   "outputs": [
    {
     "data": {
      "text/html": [
       "<div>\n",
       "<style scoped>\n",
       "    .dataframe tbody tr th:only-of-type {\n",
       "        vertical-align: middle;\n",
       "    }\n",
       "\n",
       "    .dataframe tbody tr th {\n",
       "        vertical-align: top;\n",
       "    }\n",
       "\n",
       "    .dataframe thead th {\n",
       "        text-align: right;\n",
       "    }\n",
       "</style>\n",
       "<table border=\"1\" class=\"dataframe\">\n",
       "  <thead>\n",
       "    <tr style=\"text-align: right;\">\n",
       "      <th></th>\n",
       "      <th>Quantity</th>\n",
       "      <th>UnitPrice</th>\n",
       "      <th>CustomerID</th>\n",
       "    </tr>\n",
       "  </thead>\n",
       "  <tbody>\n",
       "    <tr>\n",
       "      <th>count</th>\n",
       "      <td>541909.000000</td>\n",
       "      <td>541909.000000</td>\n",
       "      <td>406829.000000</td>\n",
       "    </tr>\n",
       "    <tr>\n",
       "      <th>mean</th>\n",
       "      <td>9.552250</td>\n",
       "      <td>4.611114</td>\n",
       "      <td>15287.690570</td>\n",
       "    </tr>\n",
       "    <tr>\n",
       "      <th>std</th>\n",
       "      <td>218.081158</td>\n",
       "      <td>96.759853</td>\n",
       "      <td>1713.600303</td>\n",
       "    </tr>\n",
       "    <tr>\n",
       "      <th>min</th>\n",
       "      <td>-80995.000000</td>\n",
       "      <td>-11062.060000</td>\n",
       "      <td>12346.000000</td>\n",
       "    </tr>\n",
       "    <tr>\n",
       "      <th>25%</th>\n",
       "      <td>1.000000</td>\n",
       "      <td>1.250000</td>\n",
       "      <td>13953.000000</td>\n",
       "    </tr>\n",
       "    <tr>\n",
       "      <th>50%</th>\n",
       "      <td>3.000000</td>\n",
       "      <td>2.080000</td>\n",
       "      <td>15152.000000</td>\n",
       "    </tr>\n",
       "    <tr>\n",
       "      <th>75%</th>\n",
       "      <td>10.000000</td>\n",
       "      <td>4.130000</td>\n",
       "      <td>16791.000000</td>\n",
       "    </tr>\n",
       "    <tr>\n",
       "      <th>max</th>\n",
       "      <td>80995.000000</td>\n",
       "      <td>38970.000000</td>\n",
       "      <td>18287.000000</td>\n",
       "    </tr>\n",
       "  </tbody>\n",
       "</table>\n",
       "</div>"
      ],
      "text/plain": [
       "            Quantity      UnitPrice     CustomerID\n",
       "count  541909.000000  541909.000000  406829.000000\n",
       "mean        9.552250       4.611114   15287.690570\n",
       "std       218.081158      96.759853    1713.600303\n",
       "min    -80995.000000  -11062.060000   12346.000000\n",
       "25%         1.000000       1.250000   13953.000000\n",
       "50%         3.000000       2.080000   15152.000000\n",
       "75%        10.000000       4.130000   16791.000000\n",
       "max     80995.000000   38970.000000   18287.000000"
      ]
     },
     "execution_count": 4,
     "metadata": {},
     "output_type": "execute_result"
    }
   ],
   "source": [
    "data.describe()"
   ]
  },
  {
   "cell_type": "code",
   "execution_count": 5,
   "metadata": {},
   "outputs": [],
   "source": [
    "def categorical_info(df):\n",
    "    cat_cols = df.select_dtypes(include='object').columns\n",
    "    feature_name = []\n",
    "    num_unique_val = []\n",
    "    name_unique_val = []\n",
    "    \n",
    "    for col in cat_cols:\n",
    "        feature_name.append(col)\n",
    "        num_unique_val.append(df[col].nunique())\n",
    "        name_unique_val.append(df[col].unique())\n",
    "    return pd.DataFrame({'Feature Name': feature_name, 'Number of Unique Value': num_unique_val, 'Name of Unique Values': name_unique_val})"
   ]
  },
  {
   "cell_type": "code",
   "execution_count": 6,
   "metadata": {},
   "outputs": [
    {
     "data": {
      "text/html": [
       "<div>\n",
       "<style scoped>\n",
       "    .dataframe tbody tr th:only-of-type {\n",
       "        vertical-align: middle;\n",
       "    }\n",
       "\n",
       "    .dataframe tbody tr th {\n",
       "        vertical-align: top;\n",
       "    }\n",
       "\n",
       "    .dataframe thead th {\n",
       "        text-align: right;\n",
       "    }\n",
       "</style>\n",
       "<table border=\"1\" class=\"dataframe\">\n",
       "  <thead>\n",
       "    <tr style=\"text-align: right;\">\n",
       "      <th></th>\n",
       "      <th>Feature Name</th>\n",
       "      <th>Number of Unique Value</th>\n",
       "      <th>Name of Unique Values</th>\n",
       "    </tr>\n",
       "  </thead>\n",
       "  <tbody>\n",
       "    <tr>\n",
       "      <th>0</th>\n",
       "      <td>InvoiceNo</td>\n",
       "      <td>25900</td>\n",
       "      <td>[536365, 536366, 536367, 536368, 536369, 53637...</td>\n",
       "    </tr>\n",
       "    <tr>\n",
       "      <th>1</th>\n",
       "      <td>StockCode</td>\n",
       "      <td>4070</td>\n",
       "      <td>[85123A, 71053, 84406B, 84029G, 84029E, 22752,...</td>\n",
       "    </tr>\n",
       "    <tr>\n",
       "      <th>2</th>\n",
       "      <td>Description</td>\n",
       "      <td>4223</td>\n",
       "      <td>[WHITE HANGING HEART T-LIGHT HOLDER, WHITE MET...</td>\n",
       "    </tr>\n",
       "    <tr>\n",
       "      <th>3</th>\n",
       "      <td>Country</td>\n",
       "      <td>38</td>\n",
       "      <td>[United Kingdom, France, Australia, Netherland...</td>\n",
       "    </tr>\n",
       "  </tbody>\n",
       "</table>\n",
       "</div>"
      ],
      "text/plain": [
       "  Feature Name  Number of Unique Value  \\\n",
       "0    InvoiceNo                   25900   \n",
       "1    StockCode                    4070   \n",
       "2  Description                    4223   \n",
       "3      Country                      38   \n",
       "\n",
       "                               Name of Unique Values  \n",
       "0  [536365, 536366, 536367, 536368, 536369, 53637...  \n",
       "1  [85123A, 71053, 84406B, 84029G, 84029E, 22752,...  \n",
       "2  [WHITE HANGING HEART T-LIGHT HOLDER, WHITE MET...  \n",
       "3  [United Kingdom, France, Australia, Netherland...  "
      ]
     },
     "execution_count": 6,
     "metadata": {},
     "output_type": "execute_result"
    }
   ],
   "source": [
    "categorical_info(data)"
   ]
  },
  {
   "cell_type": "markdown",
   "metadata": {},
   "source": [
    "## Task 3 : Data Exploration (Initial EDA and data cleaning)\n",
    "\n",
    "- Understand your variables\n",
    "- Clean your dataset (missing data, redundant data, outliers) "
   ]
  },
  {
   "cell_type": "markdown",
   "metadata": {},
   "source": [
    "### Check missing values"
   ]
  },
  {
   "cell_type": "code",
   "execution_count": 7,
   "metadata": {},
   "outputs": [
    {
     "data": {
      "text/plain": [
       "InvoiceNo           0\n",
       "StockCode           0\n",
       "Description      1454\n",
       "Quantity            0\n",
       "InvoiceDate         0\n",
       "UnitPrice           0\n",
       "CustomerID     135080\n",
       "Country             0\n",
       "dtype: int64"
      ]
     },
     "execution_count": 7,
     "metadata": {},
     "output_type": "execute_result"
    }
   ],
   "source": [
    "data.isna().sum()"
   ]
  },
  {
   "cell_type": "markdown",
   "metadata": {},
   "source": [
    "### Filling missing values"
   ]
  },
  {
   "cell_type": "code",
   "execution_count": 8,
   "metadata": {},
   "outputs": [],
   "source": [
    "description = data['Description']\n",
    "description=description.fillna('*')\n",
    "descr=[]\n",
    "for i in description:\n",
    "    if i=='*':\n",
    "        value=data[data['StockCode']==data['StockCode'][description[description==i].index[0]]]['Description'].mode()[0]\n",
    "        descr.append(value)\n",
    "    elif i=='?':\n",
    "        value=data[data['StockCode']==data['StockCode'][description[description==i].index[0]]]['Description'].mode()[0]\n",
    "        descr.append(value)\n",
    "    else:\n",
    "        descr.append(i)\n",
    "        \n",
    "data['Description'] = descr\n",
    "data['CustomerID'] = data['CustomerID'].fillna('')"
   ]
  },
  {
   "cell_type": "markdown",
   "metadata": {},
   "source": [
    "### Check duplicates"
   ]
  },
  {
   "cell_type": "code",
   "execution_count": 9,
   "metadata": {},
   "outputs": [
    {
     "data": {
      "text/plain": [
       "5268"
      ]
     },
     "execution_count": 9,
     "metadata": {},
     "output_type": "execute_result"
    }
   ],
   "source": [
    "data.duplicated().sum()"
   ]
  },
  {
   "cell_type": "code",
   "execution_count": 10,
   "metadata": {},
   "outputs": [
    {
     "data": {
      "text/html": [
       "<div>\n",
       "<style scoped>\n",
       "    .dataframe tbody tr th:only-of-type {\n",
       "        vertical-align: middle;\n",
       "    }\n",
       "\n",
       "    .dataframe tbody tr th {\n",
       "        vertical-align: top;\n",
       "    }\n",
       "\n",
       "    .dataframe thead th {\n",
       "        text-align: right;\n",
       "    }\n",
       "</style>\n",
       "<table border=\"1\" class=\"dataframe\">\n",
       "  <thead>\n",
       "    <tr style=\"text-align: right;\">\n",
       "      <th></th>\n",
       "      <th>InvoiceNo</th>\n",
       "      <th>StockCode</th>\n",
       "      <th>Description</th>\n",
       "      <th>Quantity</th>\n",
       "      <th>InvoiceDate</th>\n",
       "      <th>UnitPrice</th>\n",
       "      <th>CustomerID</th>\n",
       "      <th>Country</th>\n",
       "    </tr>\n",
       "  </thead>\n",
       "  <tbody>\n",
       "    <tr>\n",
       "      <th>517</th>\n",
       "      <td>536409</td>\n",
       "      <td>21866</td>\n",
       "      <td>UNION JACK FLAG LUGGAGE TAG</td>\n",
       "      <td>1</td>\n",
       "      <td>2010-12-01 11:45:00</td>\n",
       "      <td>1.25</td>\n",
       "      <td>17908</td>\n",
       "      <td>United Kingdom</td>\n",
       "    </tr>\n",
       "    <tr>\n",
       "      <th>527</th>\n",
       "      <td>536409</td>\n",
       "      <td>22866</td>\n",
       "      <td>HAND WARMER SCOTTY DOG DESIGN</td>\n",
       "      <td>1</td>\n",
       "      <td>2010-12-01 11:45:00</td>\n",
       "      <td>2.10</td>\n",
       "      <td>17908</td>\n",
       "      <td>United Kingdom</td>\n",
       "    </tr>\n",
       "    <tr>\n",
       "      <th>537</th>\n",
       "      <td>536409</td>\n",
       "      <td>22900</td>\n",
       "      <td>SET 2 TEA TOWELS I LOVE LONDON</td>\n",
       "      <td>1</td>\n",
       "      <td>2010-12-01 11:45:00</td>\n",
       "      <td>2.95</td>\n",
       "      <td>17908</td>\n",
       "      <td>United Kingdom</td>\n",
       "    </tr>\n",
       "    <tr>\n",
       "      <th>539</th>\n",
       "      <td>536409</td>\n",
       "      <td>22111</td>\n",
       "      <td>SCOTTIE DOG HOT WATER BOTTLE</td>\n",
       "      <td>1</td>\n",
       "      <td>2010-12-01 11:45:00</td>\n",
       "      <td>4.95</td>\n",
       "      <td>17908</td>\n",
       "      <td>United Kingdom</td>\n",
       "    </tr>\n",
       "    <tr>\n",
       "      <th>555</th>\n",
       "      <td>536412</td>\n",
       "      <td>22327</td>\n",
       "      <td>ROUND SNACK BOXES SET OF 4 SKULLS</td>\n",
       "      <td>1</td>\n",
       "      <td>2010-12-01 11:49:00</td>\n",
       "      <td>2.95</td>\n",
       "      <td>17920</td>\n",
       "      <td>United Kingdom</td>\n",
       "    </tr>\n",
       "  </tbody>\n",
       "</table>\n",
       "</div>"
      ],
      "text/plain": [
       "    InvoiceNo StockCode                        Description  Quantity  \\\n",
       "517    536409     21866        UNION JACK FLAG LUGGAGE TAG         1   \n",
       "527    536409     22866      HAND WARMER SCOTTY DOG DESIGN         1   \n",
       "537    536409     22900    SET 2 TEA TOWELS I LOVE LONDON          1   \n",
       "539    536409     22111       SCOTTIE DOG HOT WATER BOTTLE         1   \n",
       "555    536412     22327  ROUND SNACK BOXES SET OF 4 SKULLS         1   \n",
       "\n",
       "            InvoiceDate  UnitPrice CustomerID         Country  \n",
       "517 2010-12-01 11:45:00       1.25      17908  United Kingdom  \n",
       "527 2010-12-01 11:45:00       2.10      17908  United Kingdom  \n",
       "537 2010-12-01 11:45:00       2.95      17908  United Kingdom  \n",
       "539 2010-12-01 11:45:00       4.95      17908  United Kingdom  \n",
       "555 2010-12-01 11:49:00       2.95      17920  United Kingdom  "
      ]
     },
     "execution_count": 10,
     "metadata": {},
     "output_type": "execute_result"
    }
   ],
   "source": [
    "# Inspect some rows containing duplicates as needed\n",
    "data[data.duplicated()].head()"
   ]
  },
  {
   "cell_type": "markdown",
   "metadata": {},
   "source": [
    "The above output shows the first five occurences of rows that are duplicated farther down in the dataframe. How likely is it that these are legitimate entries?\n",
    "\n",
    "You could perform a likelihood analysis by essentially applying Bayes' theorem and multiplying the probabilities of finding each value in each column, but this does not seem necessary. With several continuous variables across 10 columns, it seems very unlikely that these observations are legitimate. You can proceed by dropping them."
   ]
  },
  {
   "cell_type": "code",
   "execution_count": 11,
   "metadata": {},
   "outputs": [
    {
     "data": {
      "text/html": [
       "<div>\n",
       "<style scoped>\n",
       "    .dataframe tbody tr th:only-of-type {\n",
       "        vertical-align: middle;\n",
       "    }\n",
       "\n",
       "    .dataframe tbody tr th {\n",
       "        vertical-align: top;\n",
       "    }\n",
       "\n",
       "    .dataframe thead th {\n",
       "        text-align: right;\n",
       "    }\n",
       "</style>\n",
       "<table border=\"1\" class=\"dataframe\">\n",
       "  <thead>\n",
       "    <tr style=\"text-align: right;\">\n",
       "      <th></th>\n",
       "      <th>InvoiceNo</th>\n",
       "      <th>StockCode</th>\n",
       "      <th>Description</th>\n",
       "      <th>Quantity</th>\n",
       "      <th>InvoiceDate</th>\n",
       "      <th>UnitPrice</th>\n",
       "      <th>CustomerID</th>\n",
       "      <th>Country</th>\n",
       "    </tr>\n",
       "  </thead>\n",
       "  <tbody>\n",
       "    <tr>\n",
       "      <th>0</th>\n",
       "      <td>536365</td>\n",
       "      <td>85123A</td>\n",
       "      <td>WHITE HANGING HEART T-LIGHT HOLDER</td>\n",
       "      <td>6</td>\n",
       "      <td>2010-12-01 08:26:00</td>\n",
       "      <td>2.55</td>\n",
       "      <td>17850</td>\n",
       "      <td>United Kingdom</td>\n",
       "    </tr>\n",
       "    <tr>\n",
       "      <th>1</th>\n",
       "      <td>536365</td>\n",
       "      <td>71053</td>\n",
       "      <td>WHITE METAL LANTERN</td>\n",
       "      <td>6</td>\n",
       "      <td>2010-12-01 08:26:00</td>\n",
       "      <td>3.39</td>\n",
       "      <td>17850</td>\n",
       "      <td>United Kingdom</td>\n",
       "    </tr>\n",
       "    <tr>\n",
       "      <th>2</th>\n",
       "      <td>536365</td>\n",
       "      <td>84406B</td>\n",
       "      <td>CREAM CUPID HEARTS COAT HANGER</td>\n",
       "      <td>8</td>\n",
       "      <td>2010-12-01 08:26:00</td>\n",
       "      <td>2.75</td>\n",
       "      <td>17850</td>\n",
       "      <td>United Kingdom</td>\n",
       "    </tr>\n",
       "    <tr>\n",
       "      <th>3</th>\n",
       "      <td>536365</td>\n",
       "      <td>84029G</td>\n",
       "      <td>KNITTED UNION FLAG HOT WATER BOTTLE</td>\n",
       "      <td>6</td>\n",
       "      <td>2010-12-01 08:26:00</td>\n",
       "      <td>3.39</td>\n",
       "      <td>17850</td>\n",
       "      <td>United Kingdom</td>\n",
       "    </tr>\n",
       "    <tr>\n",
       "      <th>4</th>\n",
       "      <td>536365</td>\n",
       "      <td>84029E</td>\n",
       "      <td>RED WOOLLY HOTTIE WHITE HEART.</td>\n",
       "      <td>6</td>\n",
       "      <td>2010-12-01 08:26:00</td>\n",
       "      <td>3.39</td>\n",
       "      <td>17850</td>\n",
       "      <td>United Kingdom</td>\n",
       "    </tr>\n",
       "  </tbody>\n",
       "</table>\n",
       "</div>"
      ],
      "text/plain": [
       "  InvoiceNo StockCode                          Description  Quantity  \\\n",
       "0    536365    85123A   WHITE HANGING HEART T-LIGHT HOLDER         6   \n",
       "1    536365     71053                  WHITE METAL LANTERN         6   \n",
       "2    536365    84406B       CREAM CUPID HEARTS COAT HANGER         8   \n",
       "3    536365    84029G  KNITTED UNION FLAG HOT WATER BOTTLE         6   \n",
       "4    536365    84029E       RED WOOLLY HOTTIE WHITE HEART.         6   \n",
       "\n",
       "          InvoiceDate  UnitPrice CustomerID         Country  \n",
       "0 2010-12-01 08:26:00       2.55      17850  United Kingdom  \n",
       "1 2010-12-01 08:26:00       3.39      17850  United Kingdom  \n",
       "2 2010-12-01 08:26:00       2.75      17850  United Kingdom  \n",
       "3 2010-12-01 08:26:00       3.39      17850  United Kingdom  \n",
       "4 2010-12-01 08:26:00       3.39      17850  United Kingdom  "
      ]
     },
     "execution_count": 11,
     "metadata": {},
     "output_type": "execute_result"
    }
   ],
   "source": [
    "# Drop duplicates and save resulting dataframe in a new variable as needed\n",
    "df1 = data.drop_duplicates(keep='first')\n",
    "\n",
    "# Display first few rows of new dataframe as needed\n",
    "df1.head()"
   ]
  },
  {
   "cell_type": "markdown",
   "metadata": {},
   "source": [
    "## Task 4 : Identify any outliers or anomalies in the dataset and discuss their potential impact on the analysis."
   ]
  },
  {
   "cell_type": "code",
   "execution_count": 12,
   "metadata": {},
   "outputs": [
    {
     "data": {
      "image/png": "[encoded data removed]",
      "text/plain": [
       "<Figure size 1296x360 with 2 Axes>"
      ]
     },
     "metadata": {
      "needs_background": "light"
     },
     "output_type": "display_data"
    }
   ],
   "source": [
    "# Set figure and axes\n",
    "fig, ax = plt.subplots(1, 2, figsize = (18,5))\n",
    "sns.boxplot(x=df1['Quantity'],ax=ax[0])\n",
    "ax[0].set_title('Boxplot to detect outliers for Quantity', fontsize=12)\n",
    "sns.boxplot(x=df1['UnitPrice'],ax=ax[1])\n",
    "ax[1].set_title('Boxplot to detect outliers for UnitPrice', fontsize=12)\n",
    "None"
   ]
  },
  {
   "cell_type": "markdown",
   "metadata": {},
   "source": [
    "The boxplot above shows that there are outliers in the `Quantity` and `UnitPrice` variable. \n",
    "\n",
    "It would be helpful to investigate how many rows in the data contain outliers in the both the column."
   ]
  },
  {
   "cell_type": "code",
   "execution_count": 13,
   "metadata": {},
   "outputs": [
    {
     "name": "stdout",
     "output_type": "stream",
     "text": [
      "Lower limit: -12.5\n",
      "Upper limit: 23.5\n",
      "Number of rows in the data containing outliers in `Quantity`: 58501\n"
     ]
    }
   ],
   "source": [
    "# Determine the number of rows containing outliers in `Quantity`\n",
    "\n",
    "# Compute the 25th percentile value in `Quantity`\n",
    "percentile25 = df1['Quantity'].quantile(0.25)\n",
    "\n",
    "# Compute the 75th percentile value in `Quantity`\n",
    "percentile75 = df1['Quantity'].quantile(0.75)\n",
    "\n",
    "# Compute the interquartile range in `Quantity`\n",
    "iqr = percentile75 - percentile25\n",
    "\n",
    "# Define the upper limit and lower limit for non-outlier values in `Quantity`\n",
    "upper_limit = percentile75 + (1.5 * iqr)\n",
    "lower_limit = percentile25 - (1.5 * iqr)\n",
    "print(\"Lower limit:\", lower_limit)\n",
    "print(\"Upper limit:\", upper_limit)\n",
    "\n",
    "# Identify subset of data containing outliers in `Quantity`\n",
    "outliers = df1[(df1['Quantity'] > upper_limit) | (df1['Quantity'] < lower_limit)]\n",
    "\n",
    "# Count how many rows in the data contain outliers in `Quantity`\n",
    "print(\"Number of rows in the data containing outliers in `Quantity`:\", len(outliers))"
   ]
  },
  {
   "cell_type": "code",
   "execution_count": 14,
   "metadata": {},
   "outputs": [
    {
     "name": "stdout",
     "output_type": "stream",
     "text": [
      "Lower limit: -3.0700000000000003\n",
      "Upper limit: 8.45\n",
      "Number of rows in the data containing outliers in `UnitPrice`: 39450\n"
     ]
    }
   ],
   "source": [
    "# Determine the number of rows containing outliers in `UnitPrice`\n",
    "\n",
    "# Compute the 25th percentile value in `UnitPrice`\n",
    "percentile25 = df1['UnitPrice'].quantile(0.25)\n",
    "\n",
    "# Compute the 75th percentile value in `UnitPrice`\n",
    "percentile75 = df1['UnitPrice'].quantile(0.75)\n",
    "\n",
    "# Compute the interquartile range in `UnitPrice`\n",
    "iqr = percentile75 - percentile25\n",
    "\n",
    "# Define the upper limit and lower limit for non-outlier values in `UnitPrice`\n",
    "upper_limit = percentile75 + (1.5 * iqr)\n",
    "lower_limit = percentile25 - (1.5 * iqr)\n",
    "print(\"Lower limit:\", lower_limit)\n",
    "print(\"Upper limit:\", upper_limit)\n",
    "\n",
    "# Identify subset of data containing outliers in `UnitPrice`\n",
    "outliers = df1[(df1['UnitPrice'] > upper_limit) | (df1['UnitPrice'] < lower_limit)]\n",
    "\n",
    "# Count how many rows in the data contain outliers in `UnitPrice`\n",
    "print(\"Number of rows in the data containing outliers in `UnitPrice`:\", len(outliers))"
   ]
  },
  {
   "cell_type": "markdown",
   "metadata": {},
   "source": [
    "Certain types of models are more sensitive to outliers than others. When you get to the stage of building your model, consider whether to remove these outliers based on the type of model you decide to use."
   ]
  },
  {
   "cell_type": "markdown",
   "metadata": {},
   "source": [
    "## Task 5 : Analyze the sales trends over time. Identify the busiest months and days of the week in terms of sales"
   ]
  },
  {
   "cell_type": "code",
   "execution_count": 15,
   "metadata": {},
   "outputs": [],
   "source": [
    "# Create year,month and day columns for visualization\n",
    "df1['year_month']=df1['InvoiceDate'].dt.to_period('M')\n",
    "df1['year']=df1['InvoiceDate'].dt.year\n",
    "df1['Quarter'] = df1['InvoiceDate'].dt.quarter\n",
    "df1['month']=df1['InvoiceDate'].dt.month\n",
    "df1['Date']=df1['InvoiceDate'].dt.date\n",
    "df1['Week'] = df1['InvoiceDate'].dt.week\n",
    "df1['Day'] = df1['InvoiceDate'].dt.day_name()\n",
    "df1['WeekDay'] = df1['InvoiceDate'].dt.weekday\n",
    "df1['Time'] = df1['InvoiceDate'].dt.time\n",
    "df1['Hour']=df1['InvoiceDate'].dt.hour\n",
    "\n",
    "# Change datatype of 'year_month' column to string\n",
    "string = []\n",
    "for i in df1['year_month']:\n",
    "    string.append(i.strftime('%Y-%m'))\n",
    "    \n",
    "df1['year_month']=string\n",
    "\n",
    "# Because there is no Total Sale column in our data, we must first create it.\n",
    "df1['Total'] = df1['Quantity']*df1['UnitPrice']"
   ]
  },
  {
   "cell_type": "code",
   "execution_count": 16,
   "metadata": {},
   "outputs": [
    {
     "data": {
      "image/png": "[encoded data removed]",
      "text/plain": [
       "<Figure size 720x360 with 1 Axes>"
      ]
     },
     "metadata": {
      "needs_background": "light"
     },
     "output_type": "display_data"
    }
   ],
   "source": [
    "quarter = df1[df1['year_month']!='2010-12'].groupby('Quarter')['Total'].sum().reset_index()\n",
    "\n",
    "plt.figure(figsize=[10,5])\n",
    "sns.lineplot(x='Quarter',y='Total',data=quarter,linewidth=2,color='red')\n",
    "sns.scatterplot(x='Quarter',y='Total',data=quarter,color='Black')\n",
    "plt.bar(x='Quarter',height='Total',data=quarter,color='skyblue')\n",
    "plt.title('Quarterly Sales Trends For The Year 2011',weight='bold',fontsize=16)\n",
    "plt.xlabel('Quarter',weight='bold',fontsize=14)\n",
    "plt.ylabel('Total Sales',weight='bold',fontsize=14)\n",
    "plt.yticks(weight='bold')\n",
    "plt.xticks([1,2,3,4],weight='bold')\n",
    "plt.grid(axis='y')\n",
    "None"
   ]
  },
  {
   "cell_type": "markdown",
   "metadata": {},
   "source": [
    "Sales reached their peak in the fourth quarter, while the first quarter saw the lowest sales.<br><br>\n",
    "To enhance our comprehension, it would be prudent to perform a monthly sales analysis"
   ]
  },
  {
   "cell_type": "code",
   "execution_count": 17,
   "metadata": {},
   "outputs": [
    {
     "data": {
      "image/png": "[encoded data removed]",
      "text/plain": [
       "<Figure size 1080x576 with 1 Axes>"
      ]
     },
     "metadata": {
      "needs_background": "light"
     },
     "output_type": "display_data"
    }
   ],
   "source": [
    "month = df1.groupby('year_month')['Total'].sum().reset_index()\n",
    "\n",
    "plt.figure(figsize=[15,8])\n",
    "sns.lineplot(x='year_month',y='Total',data=month,linewidth=1.5,color='red')\n",
    "sns.scatterplot(x='year_month',y='Total',data=month,color='Black')\n",
    "plt.bar(x='year_month',height='Total',data=month,color='skyblue',width=0.3)\n",
    "plt.title('Monthly Sales Trends',weight='bold',fontsize=16)\n",
    "plt.xlabel('Month',weight='bold',fontsize=14)\n",
    "plt.ylabel('Total Sales',weight='bold',fontsize=14)\n",
    "plt.yticks(weight='bold')\n",
    "plt.xticks(weight='bold')\n",
    "plt.grid()\n",
    "None"
   ]
  },
  {
   "cell_type": "markdown",
   "metadata": {},
   "source": [
    "In November 2011, we observed the highest sales, while December 2011 recorded the lowest sales. <br>\n",
    "Sales figures remained relatively consistent from June 2011 to August 2011."
   ]
  },
  {
   "cell_type": "code",
   "execution_count": 18,
   "metadata": {},
   "outputs": [
    {
     "data": {
      "image/png": "[encoded data removed]",
      "text/plain": [
       "<Figure size 720x360 with 1 Axes>"
      ]
     },
     "metadata": {
      "needs_background": "light"
     },
     "output_type": "display_data"
    }
   ],
   "source": [
    "weekday = df1.groupby(['WeekDay','Day'])['Total'].sum().reset_index()\n",
    "\n",
    "plt.figure(figsize=[10,5])\n",
    "sns.lineplot(x='WeekDay',y='Total',data=weekday,linewidth=1.5,color='red')\n",
    "sns.scatterplot(x='WeekDay',y='Total',data=weekday,color='Black')\n",
    "plt.bar(x='WeekDay',height='Total',data=weekday,color='skyblue',width=0.3)\n",
    "plt.title('Busiest Day of the Week',weight='bold',fontsize=16)\n",
    "plt.xlabel('')\n",
    "plt.ylabel('Total Sales',weight='bold',fontsize=14)\n",
    "plt.yticks(weight='bold')\n",
    "plt.xticks(weekday['WeekDay'].values,weekday['Day'].values,weight='bold')\n",
    "plt.grid()\n",
    "None"
   ]
  },
  {
   "cell_type": "markdown",
   "metadata": {},
   "source": [
    "Thursday experiences the highest traffic, while Sunday is the least busy day. <br>\n",
    "Additionally, there are no sales on Saturdays."
   ]
  },
  {
   "cell_type": "code",
   "execution_count": 19,
   "metadata": {},
   "outputs": [
    {
     "data": {
      "image/png": "[encoded data removed]",
      "text/plain": [
       "<Figure size 1080x576 with 1 Axes>"
      ]
     },
     "metadata": {
      "needs_background": "light"
     },
     "output_type": "display_data"
    }
   ],
   "source": [
    "Hour = df1.groupby('Hour')['Total'].sum().reset_index()\n",
    "\n",
    "plt.figure(figsize=[15,8])\n",
    "sns.lineplot(x='Hour',y='Total',data=Hour,linewidth=1.5,color='red')\n",
    "sns.scatterplot(x='Hour',y='Total',data=Hour,color='Black')\n",
    "plt.bar(x='Hour',height='Total',data=Hour,color='skyblue',width=0.3)\n",
    "plt.title('Busiest Hour of the Day',weight='bold',fontsize=16)\n",
    "plt.xlabel('Hour',weight='bold',fontsize=14)\n",
    "plt.ylabel('Total Sales',weight='bold',fontsize=14)\n",
    "plt.yticks(weight='bold')\n",
    "plt.xticks(weight='bold')\n",
    "plt.grid()\n",
    "None"
   ]
  },
  {
   "cell_type": "markdown",
   "metadata": {},
   "source": [
    "The peak sales hours are from 10 AM to 4 PM, with 12 PM to 1 PM being the busiest hour, closely followed by 10 AM to 11 AM."
   ]
  },
  {
   "cell_type": "code",
   "execution_count": 20,
   "metadata": {},
   "outputs": [
    {
     "data": {
      "text/html": [
       "<style  type=\"text/css\" >\n",
       "    #T_3c375ea4_6f75_11ee_b144_0242ac120009row0_col0 {\n",
       "            border:  1.3px solid black;\n",
       "            color:  blue;\n",
       "            background-color:  lightblue;\n",
       "        }    #T_3c375ea4_6f75_11ee_b144_0242ac120009row0_col1 {\n",
       "            border:  1.3px solid black;\n",
       "            color:  blue;\n",
       "            background-color:  lightblue;\n",
       "        }    #T_3c375ea4_6f75_11ee_b144_0242ac120009row1_col0 {\n",
       "            border:  1.3px solid black;\n",
       "            color:  blue;\n",
       "            background-color:  lightblue;\n",
       "        }    #T_3c375ea4_6f75_11ee_b144_0242ac120009row1_col1 {\n",
       "            border:  1.3px solid black;\n",
       "            color:  blue;\n",
       "            background-color:  lightblue;\n",
       "        }    #T_3c375ea4_6f75_11ee_b144_0242ac120009row2_col0 {\n",
       "            border:  1.3px solid black;\n",
       "            color:  blue;\n",
       "            background-color:  lightblue;\n",
       "        }    #T_3c375ea4_6f75_11ee_b144_0242ac120009row2_col1 {\n",
       "            border:  1.3px solid black;\n",
       "            color:  blue;\n",
       "            background-color:  lightblue;\n",
       "        }    #T_3c375ea4_6f75_11ee_b144_0242ac120009row3_col0 {\n",
       "            border:  1.3px solid black;\n",
       "            color:  blue;\n",
       "            background-color:  lightblue;\n",
       "        }    #T_3c375ea4_6f75_11ee_b144_0242ac120009row3_col1 {\n",
       "            border:  1.3px solid black;\n",
       "            color:  blue;\n",
       "            background-color:  lightblue;\n",
       "        }    #T_3c375ea4_6f75_11ee_b144_0242ac120009row4_col0 {\n",
       "            border:  1.3px solid black;\n",
       "            color:  blue;\n",
       "            background-color:  lightblue;\n",
       "        }    #T_3c375ea4_6f75_11ee_b144_0242ac120009row4_col1 {\n",
       "            border:  1.3px solid black;\n",
       "            color:  blue;\n",
       "            background-color:  lightblue;\n",
       "        }    #T_3c375ea4_6f75_11ee_b144_0242ac120009row5_col0 {\n",
       "            border:  1.3px solid black;\n",
       "            color:  blue;\n",
       "            background-color:  lightblue;\n",
       "        }    #T_3c375ea4_6f75_11ee_b144_0242ac120009row5_col1 {\n",
       "            border:  1.3px solid black;\n",
       "            color:  blue;\n",
       "            background-color:  lightblue;\n",
       "        }    #T_3c375ea4_6f75_11ee_b144_0242ac120009row6_col0 {\n",
       "            border:  1.3px solid black;\n",
       "            color:  blue;\n",
       "            background-color:  lightblue;\n",
       "        }    #T_3c375ea4_6f75_11ee_b144_0242ac120009row6_col1 {\n",
       "            border:  1.3px solid black;\n",
       "            color:  blue;\n",
       "            background-color:  lightblue;\n",
       "        }    #T_3c375ea4_6f75_11ee_b144_0242ac120009row7_col0 {\n",
       "            border:  1.3px solid black;\n",
       "            color:  blue;\n",
       "            background-color:  lightblue;\n",
       "        }    #T_3c375ea4_6f75_11ee_b144_0242ac120009row7_col1 {\n",
       "            border:  1.3px solid black;\n",
       "            color:  blue;\n",
       "            background-color:  lightblue;\n",
       "        }    #T_3c375ea4_6f75_11ee_b144_0242ac120009row8_col0 {\n",
       "            border:  1.3px solid black;\n",
       "            color:  blue;\n",
       "            background-color:  lightblue;\n",
       "        }    #T_3c375ea4_6f75_11ee_b144_0242ac120009row8_col1 {\n",
       "            border:  1.3px solid black;\n",
       "            color:  blue;\n",
       "            background-color:  lightblue;\n",
       "        }    #T_3c375ea4_6f75_11ee_b144_0242ac120009row9_col0 {\n",
       "            border:  1.3px solid black;\n",
       "            color:  blue;\n",
       "            background-color:  lightblue;\n",
       "        }    #T_3c375ea4_6f75_11ee_b144_0242ac120009row9_col1 {\n",
       "            border:  1.3px solid black;\n",
       "            color:  blue;\n",
       "            background-color:  lightblue;\n",
       "        }</style><table id=\"T_3c375ea4_6f75_11ee_b144_0242ac120009\" ><caption>Top 10 Highest Sellings Days of the Year</caption><thead>    <tr>        <th class=\"col_heading level0 col0\" >Date</th>        <th class=\"col_heading level0 col1\" >Total</th>    </tr></thead><tbody>\n",
       "                <tr>\n",
       "                                <td id=\"T_3c375ea4_6f75_11ee_b144_0242ac120009row0_col0\" class=\"data row0 col0\" >2011-11-14</td>\n",
       "                        <td id=\"T_3c375ea4_6f75_11ee_b144_0242ac120009row0_col1\" class=\"data row0 col1\" >             111,959</td>\n",
       "            </tr>\n",
       "            <tr>\n",
       "                                <td id=\"T_3c375ea4_6f75_11ee_b144_0242ac120009row1_col0\" class=\"data row1 col0\" >2011-09-20</td>\n",
       "                        <td id=\"T_3c375ea4_6f75_11ee_b144_0242ac120009row1_col1\" class=\"data row1 col1\" >             109,228</td>\n",
       "            </tr>\n",
       "            <tr>\n",
       "                                <td id=\"T_3c375ea4_6f75_11ee_b144_0242ac120009row2_col0\" class=\"data row2 col0\" >2011-12-08</td>\n",
       "                        <td id=\"T_3c375ea4_6f75_11ee_b144_0242ac120009row2_col1\" class=\"data row2 col1\" >              81,294</td>\n",
       "            </tr>\n",
       "            <tr>\n",
       "                                <td id=\"T_3c375ea4_6f75_11ee_b144_0242ac120009row3_col0\" class=\"data row3 col0\" >2011-11-23</td>\n",
       "                        <td id=\"T_3c375ea4_6f75_11ee_b144_0242ac120009row3_col1\" class=\"data row3 col1\" >              78,224</td>\n",
       "            </tr>\n",
       "            <tr>\n",
       "                                <td id=\"T_3c375ea4_6f75_11ee_b144_0242ac120009row4_col0\" class=\"data row4 col0\" >2011-10-05</td>\n",
       "                        <td id=\"T_3c375ea4_6f75_11ee_b144_0242ac120009row4_col1\" class=\"data row4 col1\" >              75,112</td>\n",
       "            </tr>\n",
       "            <tr>\n",
       "                                <td id=\"T_3c375ea4_6f75_11ee_b144_0242ac120009row5_col0\" class=\"data row5 col0\" >2011-12-07</td>\n",
       "                        <td id=\"T_3c375ea4_6f75_11ee_b144_0242ac120009row5_col1\" class=\"data row5 col1\" >              74,953</td>\n",
       "            </tr>\n",
       "            <tr>\n",
       "                                <td id=\"T_3c375ea4_6f75_11ee_b144_0242ac120009row6_col0\" class=\"data row6 col0\" >2011-08-11</td>\n",
       "                        <td id=\"T_3c375ea4_6f75_11ee_b144_0242ac120009row6_col1\" class=\"data row6 col1\" >              72,072</td>\n",
       "            </tr>\n",
       "            <tr>\n",
       "                                <td id=\"T_3c375ea4_6f75_11ee_b144_0242ac120009row7_col0\" class=\"data row7 col0\" >2011-11-29</td>\n",
       "                        <td id=\"T_3c375ea4_6f75_11ee_b144_0242ac120009row7_col1\" class=\"data row7 col1\" >              72,008</td>\n",
       "            </tr>\n",
       "            <tr>\n",
       "                                <td id=\"T_3c375ea4_6f75_11ee_b144_0242ac120009row8_col0\" class=\"data row8 col0\" >2011-03-29</td>\n",
       "                        <td id=\"T_3c375ea4_6f75_11ee_b144_0242ac120009row8_col1\" class=\"data row8 col1\" >              70,531</td>\n",
       "            </tr>\n",
       "            <tr>\n",
       "                                <td id=\"T_3c375ea4_6f75_11ee_b144_0242ac120009row9_col0\" class=\"data row9 col0\" >2011-11-07</td>\n",
       "                        <td id=\"T_3c375ea4_6f75_11ee_b144_0242ac120009row9_col1\" class=\"data row9 col1\" >              69,825</td>\n",
       "            </tr>\n",
       "    </tbody></table>"
      ],
      "text/plain": [
       "<pandas.io.formats.style.Styler at 0x7fdccb079190>"
      ]
     },
     "execution_count": 20,
     "metadata": {},
     "output_type": "execute_result"
    }
   ],
   "source": [
    "Date = df1.groupby('Date')['Total'].sum().reset_index().sort_values('Total',ascending=False).head(10)\n",
    "Date.style.hide_index().format({\"Total\": \"{:20,.0f}\"}).set_properties(**{'border': '1.3px solid black','color': 'blue',\n",
    "                                                         'background-color': 'lightblue'}).set_caption('Top 10 Highest Sellings Days of the Year')"
   ]
  },
  {
   "cell_type": "markdown",
   "metadata": {},
   "source": [
    "## Task 6 : Explore the top-selling products and countries based on the quantity sold."
   ]
  },
  {
   "cell_type": "code",
   "execution_count": 21,
   "metadata": {},
   "outputs": [
    {
     "data": {
      "image/png": "[encoded data removed]",
      "text/plain": [
       "<Figure size 1080x576 with 1 Axes>"
      ]
     },
     "metadata": {
      "needs_background": "light"
     },
     "output_type": "display_data"
    }
   ],
   "source": [
    "top_selling_product = df1.groupby(['StockCode','Description'])['Quantity'].sum()\\\n",
    "                        .reset_index().sort_values('Quantity',ascending = False).head(10)\n",
    "\n",
    "plt.figure(figsize=[15,8])\n",
    "sns.barplot(y='Description',x='Quantity',color='skyblue',data=top_selling_product)\n",
    "plt.title('Top 10 Best Selling Product',weight='bold',fontsize=16)\n",
    "plt.ylabel('Product',weight='bold',fontsize=14)\n",
    "plt.yticks(weight='bold')\n",
    "plt.xticks(weight='bold')\n",
    "plt.xlabel('Quantity',weight='bold',fontsize=14)\n",
    "plt.grid(axis='x')\n",
    "None"
   ]
  },
  {
   "cell_type": "code",
   "execution_count": 22,
   "metadata": {},
   "outputs": [
    {
     "data": {
      "text/html": [
       "<style  type=\"text/css\" >\n",
       "    #T_3c841c3a_6f75_11ee_b144_0242ac120009row0_col0 {\n",
       "            border:  1.3px solid black;\n",
       "            color:  blue;\n",
       "            background-color:  lightblue;\n",
       "        }    #T_3c841c3a_6f75_11ee_b144_0242ac120009row0_col1 {\n",
       "            border:  1.3px solid black;\n",
       "            color:  blue;\n",
       "            background-color:  lightblue;\n",
       "        }    #T_3c841c3a_6f75_11ee_b144_0242ac120009row0_col2 {\n",
       "            border:  1.3px solid black;\n",
       "            color:  blue;\n",
       "            background-color:  lightblue;\n",
       "        }    #T_3c841c3a_6f75_11ee_b144_0242ac120009row0_col3 {\n",
       "            border:  1.3px solid black;\n",
       "            color:  blue;\n",
       "            background-color:  lightblue;\n",
       "        }    #T_3c841c3a_6f75_11ee_b144_0242ac120009row1_col0 {\n",
       "            border:  1.3px solid black;\n",
       "            color:  blue;\n",
       "            background-color:  lightblue;\n",
       "        }    #T_3c841c3a_6f75_11ee_b144_0242ac120009row1_col1 {\n",
       "            border:  1.3px solid black;\n",
       "            color:  blue;\n",
       "            background-color:  lightblue;\n",
       "        }    #T_3c841c3a_6f75_11ee_b144_0242ac120009row1_col2 {\n",
       "            border:  1.3px solid black;\n",
       "            color:  blue;\n",
       "            background-color:  lightblue;\n",
       "        }    #T_3c841c3a_6f75_11ee_b144_0242ac120009row1_col3 {\n",
       "            border:  1.3px solid black;\n",
       "            color:  blue;\n",
       "            background-color:  lightblue;\n",
       "        }    #T_3c841c3a_6f75_11ee_b144_0242ac120009row2_col0 {\n",
       "            border:  1.3px solid black;\n",
       "            color:  blue;\n",
       "            background-color:  lightblue;\n",
       "        }    #T_3c841c3a_6f75_11ee_b144_0242ac120009row2_col1 {\n",
       "            border:  1.3px solid black;\n",
       "            color:  blue;\n",
       "            background-color:  lightblue;\n",
       "        }    #T_3c841c3a_6f75_11ee_b144_0242ac120009row2_col2 {\n",
       "            border:  1.3px solid black;\n",
       "            color:  blue;\n",
       "            background-color:  lightblue;\n",
       "        }    #T_3c841c3a_6f75_11ee_b144_0242ac120009row2_col3 {\n",
       "            border:  1.3px solid black;\n",
       "            color:  blue;\n",
       "            background-color:  lightblue;\n",
       "        }    #T_3c841c3a_6f75_11ee_b144_0242ac120009row3_col0 {\n",
       "            border:  1.3px solid black;\n",
       "            color:  blue;\n",
       "            background-color:  lightblue;\n",
       "        }    #T_3c841c3a_6f75_11ee_b144_0242ac120009row3_col1 {\n",
       "            border:  1.3px solid black;\n",
       "            color:  blue;\n",
       "            background-color:  lightblue;\n",
       "        }    #T_3c841c3a_6f75_11ee_b144_0242ac120009row3_col2 {\n",
       "            border:  1.3px solid black;\n",
       "            color:  blue;\n",
       "            background-color:  lightblue;\n",
       "        }    #T_3c841c3a_6f75_11ee_b144_0242ac120009row3_col3 {\n",
       "            border:  1.3px solid black;\n",
       "            color:  blue;\n",
       "            background-color:  lightblue;\n",
       "        }    #T_3c841c3a_6f75_11ee_b144_0242ac120009row4_col0 {\n",
       "            border:  1.3px solid black;\n",
       "            color:  blue;\n",
       "            background-color:  lightblue;\n",
       "        }    #T_3c841c3a_6f75_11ee_b144_0242ac120009row4_col1 {\n",
       "            border:  1.3px solid black;\n",
       "            color:  blue;\n",
       "            background-color:  lightblue;\n",
       "        }    #T_3c841c3a_6f75_11ee_b144_0242ac120009row4_col2 {\n",
       "            border:  1.3px solid black;\n",
       "            color:  blue;\n",
       "            background-color:  lightblue;\n",
       "        }    #T_3c841c3a_6f75_11ee_b144_0242ac120009row4_col3 {\n",
       "            border:  1.3px solid black;\n",
       "            color:  blue;\n",
       "            background-color:  lightblue;\n",
       "        }    #T_3c841c3a_6f75_11ee_b144_0242ac120009row5_col0 {\n",
       "            border:  1.3px solid black;\n",
       "            color:  blue;\n",
       "            background-color:  lightblue;\n",
       "        }    #T_3c841c3a_6f75_11ee_b144_0242ac120009row5_col1 {\n",
       "            border:  1.3px solid black;\n",
       "            color:  blue;\n",
       "            background-color:  lightblue;\n",
       "        }    #T_3c841c3a_6f75_11ee_b144_0242ac120009row5_col2 {\n",
       "            border:  1.3px solid black;\n",
       "            color:  blue;\n",
       "            background-color:  lightblue;\n",
       "        }    #T_3c841c3a_6f75_11ee_b144_0242ac120009row5_col3 {\n",
       "            border:  1.3px solid black;\n",
       "            color:  blue;\n",
       "            background-color:  lightblue;\n",
       "        }    #T_3c841c3a_6f75_11ee_b144_0242ac120009row6_col0 {\n",
       "            border:  1.3px solid black;\n",
       "            color:  blue;\n",
       "            background-color:  lightblue;\n",
       "        }    #T_3c841c3a_6f75_11ee_b144_0242ac120009row6_col1 {\n",
       "            border:  1.3px solid black;\n",
       "            color:  blue;\n",
       "            background-color:  lightblue;\n",
       "        }    #T_3c841c3a_6f75_11ee_b144_0242ac120009row6_col2 {\n",
       "            border:  1.3px solid black;\n",
       "            color:  blue;\n",
       "            background-color:  lightblue;\n",
       "        }    #T_3c841c3a_6f75_11ee_b144_0242ac120009row6_col3 {\n",
       "            border:  1.3px solid black;\n",
       "            color:  blue;\n",
       "            background-color:  lightblue;\n",
       "        }    #T_3c841c3a_6f75_11ee_b144_0242ac120009row7_col0 {\n",
       "            border:  1.3px solid black;\n",
       "            color:  blue;\n",
       "            background-color:  lightblue;\n",
       "        }    #T_3c841c3a_6f75_11ee_b144_0242ac120009row7_col1 {\n",
       "            border:  1.3px solid black;\n",
       "            color:  blue;\n",
       "            background-color:  lightblue;\n",
       "        }    #T_3c841c3a_6f75_11ee_b144_0242ac120009row7_col2 {\n",
       "            border:  1.3px solid black;\n",
       "            color:  blue;\n",
       "            background-color:  lightblue;\n",
       "        }    #T_3c841c3a_6f75_11ee_b144_0242ac120009row7_col3 {\n",
       "            border:  1.3px solid black;\n",
       "            color:  blue;\n",
       "            background-color:  lightblue;\n",
       "        }    #T_3c841c3a_6f75_11ee_b144_0242ac120009row8_col0 {\n",
       "            border:  1.3px solid black;\n",
       "            color:  blue;\n",
       "            background-color:  lightblue;\n",
       "        }    #T_3c841c3a_6f75_11ee_b144_0242ac120009row8_col1 {\n",
       "            border:  1.3px solid black;\n",
       "            color:  blue;\n",
       "            background-color:  lightblue;\n",
       "        }    #T_3c841c3a_6f75_11ee_b144_0242ac120009row8_col2 {\n",
       "            border:  1.3px solid black;\n",
       "            color:  blue;\n",
       "            background-color:  lightblue;\n",
       "        }    #T_3c841c3a_6f75_11ee_b144_0242ac120009row8_col3 {\n",
       "            border:  1.3px solid black;\n",
       "            color:  blue;\n",
       "            background-color:  lightblue;\n",
       "        }    #T_3c841c3a_6f75_11ee_b144_0242ac120009row9_col0 {\n",
       "            border:  1.3px solid black;\n",
       "            color:  blue;\n",
       "            background-color:  lightblue;\n",
       "        }    #T_3c841c3a_6f75_11ee_b144_0242ac120009row9_col1 {\n",
       "            border:  1.3px solid black;\n",
       "            color:  blue;\n",
       "            background-color:  lightblue;\n",
       "        }    #T_3c841c3a_6f75_11ee_b144_0242ac120009row9_col2 {\n",
       "            border:  1.3px solid black;\n",
       "            color:  blue;\n",
       "            background-color:  lightblue;\n",
       "        }    #T_3c841c3a_6f75_11ee_b144_0242ac120009row9_col3 {\n",
       "            border:  1.3px solid black;\n",
       "            color:  blue;\n",
       "            background-color:  lightblue;\n",
       "        }    #T_3c841c3a_6f75_11ee_b144_0242ac120009row10_col0 {\n",
       "            border:  1.3px solid black;\n",
       "            color:  blue;\n",
       "            background-color:  lightblue;\n",
       "        }    #T_3c841c3a_6f75_11ee_b144_0242ac120009row10_col1 {\n",
       "            border:  1.3px solid black;\n",
       "            color:  blue;\n",
       "            background-color:  lightblue;\n",
       "        }    #T_3c841c3a_6f75_11ee_b144_0242ac120009row10_col2 {\n",
       "            border:  1.3px solid black;\n",
       "            color:  blue;\n",
       "            background-color:  lightblue;\n",
       "        }    #T_3c841c3a_6f75_11ee_b144_0242ac120009row10_col3 {\n",
       "            border:  1.3px solid black;\n",
       "            color:  blue;\n",
       "            background-color:  lightblue;\n",
       "        }    #T_3c841c3a_6f75_11ee_b144_0242ac120009row11_col0 {\n",
       "            border:  1.3px solid black;\n",
       "            color:  blue;\n",
       "            background-color:  lightblue;\n",
       "        }    #T_3c841c3a_6f75_11ee_b144_0242ac120009row11_col1 {\n",
       "            border:  1.3px solid black;\n",
       "            color:  blue;\n",
       "            background-color:  lightblue;\n",
       "        }    #T_3c841c3a_6f75_11ee_b144_0242ac120009row11_col2 {\n",
       "            border:  1.3px solid black;\n",
       "            color:  blue;\n",
       "            background-color:  lightblue;\n",
       "        }    #T_3c841c3a_6f75_11ee_b144_0242ac120009row11_col3 {\n",
       "            border:  1.3px solid black;\n",
       "            color:  blue;\n",
       "            background-color:  lightblue;\n",
       "        }    #T_3c841c3a_6f75_11ee_b144_0242ac120009row12_col0 {\n",
       "            border:  1.3px solid black;\n",
       "            color:  blue;\n",
       "            background-color:  lightblue;\n",
       "        }    #T_3c841c3a_6f75_11ee_b144_0242ac120009row12_col1 {\n",
       "            border:  1.3px solid black;\n",
       "            color:  blue;\n",
       "            background-color:  lightblue;\n",
       "        }    #T_3c841c3a_6f75_11ee_b144_0242ac120009row12_col2 {\n",
       "            border:  1.3px solid black;\n",
       "            color:  blue;\n",
       "            background-color:  lightblue;\n",
       "        }    #T_3c841c3a_6f75_11ee_b144_0242ac120009row12_col3 {\n",
       "            border:  1.3px solid black;\n",
       "            color:  blue;\n",
       "            background-color:  lightblue;\n",
       "        }</style><table id=\"T_3c841c3a_6f75_11ee_b144_0242ac120009\" ><caption>Top-selling product for each of the Month</caption><thead>    <tr>        <th class=\"col_heading level0 col0\" >Month</th>        <th class=\"col_heading level0 col1\" >StockCode</th>        <th class=\"col_heading level0 col2\" >Description</th>        <th class=\"col_heading level0 col3\" >Quantity</th>    </tr></thead><tbody>\n",
       "                <tr>\n",
       "                                <td id=\"T_3c841c3a_6f75_11ee_b144_0242ac120009row0_col0\" class=\"data row0 col0\" >2010-12</td>\n",
       "                        <td id=\"T_3c841c3a_6f75_11ee_b144_0242ac120009row0_col1\" class=\"data row0 col1\" >84077</td>\n",
       "                        <td id=\"T_3c841c3a_6f75_11ee_b144_0242ac120009row0_col2\" class=\"data row0 col2\" >WORLD WAR 2 GLIDERS ASSTD DESIGNS</td>\n",
       "                        <td id=\"T_3c841c3a_6f75_11ee_b144_0242ac120009row0_col3\" class=\"data row0 col3\" >5195</td>\n",
       "            </tr>\n",
       "            <tr>\n",
       "                                <td id=\"T_3c841c3a_6f75_11ee_b144_0242ac120009row1_col0\" class=\"data row1 col0\" >2011-01</td>\n",
       "                        <td id=\"T_3c841c3a_6f75_11ee_b144_0242ac120009row1_col1\" class=\"data row1 col1\" >37413</td>\n",
       "                        <td id=\"T_3c841c3a_6f75_11ee_b144_0242ac120009row1_col2\" class=\"data row1 col2\" >RETROSPOT TEA SET CERAMIC 11 PC </td>\n",
       "                        <td id=\"T_3c841c3a_6f75_11ee_b144_0242ac120009row1_col3\" class=\"data row1 col3\" >5568</td>\n",
       "            </tr>\n",
       "            <tr>\n",
       "                                <td id=\"T_3c841c3a_6f75_11ee_b144_0242ac120009row2_col0\" class=\"data row2 col0\" >2011-02</td>\n",
       "                        <td id=\"T_3c841c3a_6f75_11ee_b144_0242ac120009row2_col1\" class=\"data row2 col1\" >22053</td>\n",
       "                        <td id=\"T_3c841c3a_6f75_11ee_b144_0242ac120009row2_col2\" class=\"data row2 col2\" >EMPIRE DESIGN ROSETTE</td>\n",
       "                        <td id=\"T_3c841c3a_6f75_11ee_b144_0242ac120009row2_col3\" class=\"data row2 col3\" >3986</td>\n",
       "            </tr>\n",
       "            <tr>\n",
       "                                <td id=\"T_3c841c3a_6f75_11ee_b144_0242ac120009row3_col0\" class=\"data row3 col0\" >2011-03</td>\n",
       "                        <td id=\"T_3c841c3a_6f75_11ee_b144_0242ac120009row3_col1\" class=\"data row3 col1\" >85099B</td>\n",
       "                        <td id=\"T_3c841c3a_6f75_11ee_b144_0242ac120009row3_col2\" class=\"data row3 col2\" >JUMBO BAG RED RETROSPOT</td>\n",
       "                        <td id=\"T_3c841c3a_6f75_11ee_b144_0242ac120009row3_col3\" class=\"data row3 col3\" >5281</td>\n",
       "            </tr>\n",
       "            <tr>\n",
       "                                <td id=\"T_3c841c3a_6f75_11ee_b144_0242ac120009row4_col0\" class=\"data row4 col0\" >2011-04</td>\n",
       "                        <td id=\"T_3c841c3a_6f75_11ee_b144_0242ac120009row4_col1\" class=\"data row4 col1\" >84077</td>\n",
       "                        <td id=\"T_3c841c3a_6f75_11ee_b144_0242ac120009row4_col2\" class=\"data row4 col2\" >WORLD WAR 2 GLIDERS ASSTD DESIGNS</td>\n",
       "                        <td id=\"T_3c841c3a_6f75_11ee_b144_0242ac120009row4_col3\" class=\"data row4 col3\" >10143</td>\n",
       "            </tr>\n",
       "            <tr>\n",
       "                                <td id=\"T_3c841c3a_6f75_11ee_b144_0242ac120009row5_col0\" class=\"data row5 col0\" >2011-05</td>\n",
       "                        <td id=\"T_3c841c3a_6f75_11ee_b144_0242ac120009row5_col1\" class=\"data row5 col1\" >22197</td>\n",
       "                        <td id=\"T_3c841c3a_6f75_11ee_b144_0242ac120009row5_col2\" class=\"data row5 col2\" >SMALL POPCORN HOLDER</td>\n",
       "                        <td id=\"T_3c841c3a_6f75_11ee_b144_0242ac120009row5_col3\" class=\"data row5 col3\" >6840</td>\n",
       "            </tr>\n",
       "            <tr>\n",
       "                                <td id=\"T_3c841c3a_6f75_11ee_b144_0242ac120009row6_col0\" class=\"data row6 col0\" >2011-06</td>\n",
       "                        <td id=\"T_3c841c3a_6f75_11ee_b144_0242ac120009row6_col1\" class=\"data row6 col1\" >85123A</td>\n",
       "                        <td id=\"T_3c841c3a_6f75_11ee_b144_0242ac120009row6_col2\" class=\"data row6 col2\" >ZINC TOP  2 DOOR WOODEN SHELF </td>\n",
       "                        <td id=\"T_3c841c3a_6f75_11ee_b144_0242ac120009row6_col3\" class=\"data row6 col3\" >4000</td>\n",
       "            </tr>\n",
       "            <tr>\n",
       "                                <td id=\"T_3c841c3a_6f75_11ee_b144_0242ac120009row7_col0\" class=\"data row7 col0\" >2011-07</td>\n",
       "                        <td id=\"T_3c841c3a_6f75_11ee_b144_0242ac120009row7_col1\" class=\"data row7 col1\" >84077</td>\n",
       "                        <td id=\"T_3c841c3a_6f75_11ee_b144_0242ac120009row7_col2\" class=\"data row7 col2\" >WORLD WAR 2 GLIDERS ASSTD DESIGNS</td>\n",
       "                        <td id=\"T_3c841c3a_6f75_11ee_b144_0242ac120009row7_col3\" class=\"data row7 col3\" >3714</td>\n",
       "            </tr>\n",
       "            <tr>\n",
       "                                <td id=\"T_3c841c3a_6f75_11ee_b144_0242ac120009row8_col0\" class=\"data row8 col0\" >2011-08</td>\n",
       "                        <td id=\"T_3c841c3a_6f75_11ee_b144_0242ac120009row8_col1\" class=\"data row8 col1\" >84879</td>\n",
       "                        <td id=\"T_3c841c3a_6f75_11ee_b144_0242ac120009row8_col2\" class=\"data row8 col2\" >ASSORTED COLOUR BIRD ORNAMENT</td>\n",
       "                        <td id=\"T_3c841c3a_6f75_11ee_b144_0242ac120009row8_col3\" class=\"data row8 col3\" >6544</td>\n",
       "            </tr>\n",
       "            <tr>\n",
       "                                <td id=\"T_3c841c3a_6f75_11ee_b144_0242ac120009row9_col0\" class=\"data row9 col0\" >2011-09</td>\n",
       "                        <td id=\"T_3c841c3a_6f75_11ee_b144_0242ac120009row9_col1\" class=\"data row9 col1\" >85099B</td>\n",
       "                        <td id=\"T_3c841c3a_6f75_11ee_b144_0242ac120009row9_col2\" class=\"data row9 col2\" >JUMBO BAG RED RETROSPOT</td>\n",
       "                        <td id=\"T_3c841c3a_6f75_11ee_b144_0242ac120009row9_col3\" class=\"data row9 col3\" >4265</td>\n",
       "            </tr>\n",
       "            <tr>\n",
       "                                <td id=\"T_3c841c3a_6f75_11ee_b144_0242ac120009row10_col0\" class=\"data row10 col0\" >2011-10</td>\n",
       "                        <td id=\"T_3c841c3a_6f75_11ee_b144_0242ac120009row10_col1\" class=\"data row10 col1\" >84077</td>\n",
       "                        <td id=\"T_3c841c3a_6f75_11ee_b144_0242ac120009row10_col2\" class=\"data row10 col2\" >WORLD WAR 2 GLIDERS ASSTD DESIGNS</td>\n",
       "                        <td id=\"T_3c841c3a_6f75_11ee_b144_0242ac120009row10_col3\" class=\"data row10 col3\" >8084</td>\n",
       "            </tr>\n",
       "            <tr>\n",
       "                                <td id=\"T_3c841c3a_6f75_11ee_b144_0242ac120009row11_col0\" class=\"data row11 col0\" >2011-11</td>\n",
       "                        <td id=\"T_3c841c3a_6f75_11ee_b144_0242ac120009row11_col1\" class=\"data row11 col1\" >23084</td>\n",
       "                        <td id=\"T_3c841c3a_6f75_11ee_b144_0242ac120009row11_col2\" class=\"data row11 col2\" >RABBIT NIGHT LIGHT</td>\n",
       "                        <td id=\"T_3c841c3a_6f75_11ee_b144_0242ac120009row11_col3\" class=\"data row11 col3\" >14842</td>\n",
       "            </tr>\n",
       "            <tr>\n",
       "                                <td id=\"T_3c841c3a_6f75_11ee_b144_0242ac120009row12_col0\" class=\"data row12 col0\" >2011-12</td>\n",
       "                        <td id=\"T_3c841c3a_6f75_11ee_b144_0242ac120009row12_col1\" class=\"data row12 col1\" >22197</td>\n",
       "                        <td id=\"T_3c841c3a_6f75_11ee_b144_0242ac120009row12_col2\" class=\"data row12 col2\" >POPCORN HOLDER</td>\n",
       "                        <td id=\"T_3c841c3a_6f75_11ee_b144_0242ac120009row12_col3\" class=\"data row12 col3\" >6198</td>\n",
       "            </tr>\n",
       "    </tbody></table>"
      ],
      "text/plain": [
       "<pandas.io.formats.style.Styler at 0x7fdccdbc1c90>"
      ]
     },
     "execution_count": 22,
     "metadata": {},
     "output_type": "execute_result"
    }
   ],
   "source": [
    "monthly_product = df1.groupby(['year_month','StockCode','Description'])['Quantity'].sum().reset_index()\n",
    "\n",
    "top_monthly_product=pd.DataFrame()\n",
    "for i in monthly_product['year_month'].unique():\n",
    "    df = monthly_product[monthly_product['year_month']==i]\n",
    "    top_monthly_product=top_monthly_product.append(df[df['Quantity']==df['Quantity'].max()])\n",
    "\n",
    "top_monthly_product = top_monthly_product.rename(columns={'year_month':'Month'})\n",
    "top_monthly_product.style.hide_index().set_properties(**{'border': '1.3px solid black','color': 'blue',\n",
    "                                                         'background-color': 'lightblue'}).set_caption('Top-selling product for each of the Month')"
   ]
  },
  {
   "cell_type": "code",
   "execution_count": 23,
   "metadata": {},
   "outputs": [
    {
     "data": {
      "image/png": "[encoded data removed]",
      "text/plain": [
       "<Figure size 1080x648 with 1 Axes>"
      ]
     },
     "metadata": {},
     "output_type": "display_data"
    }
   ],
   "source": [
    "top_country = df1.groupby(['Country'])['Quantity'].sum()\\\n",
    "                        .reset_index().sort_values('Quantity',ascending = False)\n",
    "top_country['Country'][6:] = 'Countries with less than 1% sell'\n",
    "top_country=top_country.groupby('Country')['Quantity'].sum().reset_index().sort_values('Quantity',ascending=False)\n",
    "top_country=top_country.append(top_country.iloc[1]).drop_duplicates(keep='last')\n",
    "\n",
    "explode_list = [0.05, 0, 0,0,0,0,0]\n",
    "top_country['Quantity'].plot(kind='pie',\n",
    "                          figsize=(15, 9),\n",
    "                          autopct='%1.1f%%',\n",
    "                          shadow=False,\n",
    "                          labels=None,\n",
    "                          pctdistance=1.12,\n",
    "                          explode=explode_list)\n",
    "plt.title('Top Countries based on Quantity sold',y=1.12,weight='bold',fontsize=16)\n",
    "plt.axis('equal')\n",
    "plt.ylabel('')\n",
    "plt.legend(labels=top_country['Country'],\n",
    "           loc='upper right',title='Country')\n",
    "plt.grid()\n",
    "plt.show()\n",
    "None"
   ]
  },
  {
   "cell_type": "code",
   "execution_count": 24,
   "metadata": {},
   "outputs": [
    {
     "data": {
      "image/png": "[encoded data removed]",
      "text/plain": [
       "<Figure size 1080x576 with 1 Axes>"
      ]
     },
     "metadata": {},
     "output_type": "display_data"
    }
   ],
   "source": [
    "top_country_without_uk = df1.groupby(['Country'])['Quantity'].sum()\\\n",
    "                        .reset_index().sort_values('Quantity',ascending = False)[1:]\n",
    "top_country_without_uk['Country'][11:] = 'Countries with less than 2% sell'\n",
    "top_country_without_uk=top_country_without_uk.groupby('Country')['Quantity'].sum().reset_index().sort_values('Quantity',ascending=False)\n",
    "top_country_without_uk=top_country_without_uk.append(top_country_without_uk.iloc[4]).drop_duplicates(keep='last')\n",
    "\n",
    "explode_list = [0.05, 0, 0,0,0,0,0,0,0,0,0,0]\n",
    "top_country_without_uk['Quantity'].plot(kind='pie',\n",
    "                          figsize=(15, 8),\n",
    "                          autopct='%1.1f%%',\n",
    "                          shadow=False,\n",
    "                          labels=None,\n",
    "                          pctdistance=1.12,\n",
    "                          explode=explode_list)\n",
    "plt.title('Top countries based on quantity sold, excluding the United Kingdom',y=1.12,weight='bold',fontsize=16)\n",
    "plt.axis('equal')\n",
    "plt.ylabel('')\n",
    "plt.legend(labels=top_country_without_uk['Country'],\n",
    "           loc='upper right',title='Country')\n",
    "plt.grid()\n",
    "plt.show()\n",
    "None"
   ]
  },
  {
   "cell_type": "markdown",
   "metadata": {},
   "source": [
    "## Task 7 : Draw conclusions and summarize your findings from the exploratory data analysis."
   ]
  },
  {
   "cell_type": "markdown",
   "metadata": {},
   "source": [
    "### Sales Trend Identification\n",
    "  - Sales exhibited their highest point during the fourth quarter, with the first quarter displaying the lowest sales figures.\n",
    "  - November 2011 marked the peak in sales, while December 2011 reported the lowest sales.\n",
    "  - The highest sales were recorded on November 14, 2011.\n",
    "  - Sales figures remained relatively stable from June 2011 to August 2011.\n",
    "  - Thursday stands out as the busiest day, whereas Sunday remains the least active.\n",
    "  - Notably, Saturdays register no sales at all.\n",
    "  - The busiest sales hours fall between 10 AM and 4 PM, with 12 PM to 1 PM being the most bustling, closely followed by 10 AM to 11 AM."
   ]
  },
  {
   "cell_type": "markdown",
   "metadata": {},
   "source": [
    "### Other Findings\n",
    " - The three best-selling items are \"Assorted Designs of World War 2 Gliders,\" \"Red Retrospot Jumbo Bag,\" and \"Popcorn Holder.\"\n",
    " - The top country for quantity sold is the United Kingdom, accounting for 82.3% of the sales, which is unsurprising given that the company is UK-based.\n",
    " - The Netherlands stands out as the top country for international sales, accounting for 21.9% of the quantity sold."
   ]
  }
 ],
 "metadata": {
  "kernelspec": {
   "display_name": "Python 3",
   "language": "python",
   "name": "python3"
  },
  "language_info": {
   "codemirror_mode": {
    "name": "ipython",
    "version": 3
   },
   "file_extension": ".py",
   "mimetype": "text/x-python",
   "name": "python",
   "nbconvert_exporter": "python",
   "pygments_lexer": "ipython3",
   "version": "3.7.6"
  }
 },
 "nbformat": 4,
 "nbformat_minor": 4
}
